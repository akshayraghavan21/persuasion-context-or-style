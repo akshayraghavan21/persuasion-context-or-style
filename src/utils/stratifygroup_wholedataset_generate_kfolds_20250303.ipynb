{
 "cells": [
  {
   "cell_type": "code",
   "execution_count": 2,
   "metadata": {},
   "outputs": [],
   "source": [
    "import pandas as pd\n",
    "import numpy as np\n",
    "import datetime\n",
    "from sklearn.model_selection import GroupKFold\n",
    "# pd.set_option('display.max_columns', None)\n",
    "# pd.set_option('display.width', 0)  # Optional: prevents line wrapping"
   ]
  },
  {
   "cell_type": "code",
   "execution_count": 3,
   "metadata": {},
   "outputs": [],
   "source": [
    "\n",
    "# Load Data <must be of the format: \n",
    "# claim_id, claim, claim_created_utc, \n",
    "# positive_id, positive_body, positive_created_utc, \n",
    "# negative_id, negative_body, negative_created_utc\n",
    "input_file = \"/cronus_data/araghavan/persuasion/data/pos_random_neg_20250303_dump_v001.jsonl\"\n"
   ]
  },
  {
   "cell_type": "code",
   "execution_count": 4,
   "metadata": {},
   "outputs": [],
   "source": [
    "df = pd.read_json(input_file, lines=True)\n",
    "df.sort_values(by=['claim_created_utc', 'claim_id'], ascending=True, inplace=True)\n"
   ]
  },
  {
   "cell_type": "code",
   "execution_count": 8,
   "metadata": {},
   "outputs": [
    {
     "name": "stdout",
     "output_type": "stream",
     "text": [
      "Raw DataFrame Shape: (76075, 9)\n",
      "Held Out Timeout Test Shape: (8155, 9)\n",
      "Time-in Data Shape: (67920, 9)\n"
     ]
    }
   ],
   "source": [
    "\n",
    "# Step 1: Time-based cutoff split\n",
    "cutoff = int(datetime.datetime(2024, 2, 1).timestamp())\n",
    "heldout_timeout_test = df[df['claim_created_utc'] >= cutoff].copy(deep=True)\n",
    "timein_data = df[df['claim_created_utc'] < cutoff].copy(deep=True)\n",
    "\n",
    "print(f\"Raw DataFrame Shape: {df.shape}\")\n",
    "print(f\"Held Out Timeout Test Shape: {heldout_timeout_test.shape}\")\n",
    "print(f\"Time-in Data Shape: {timein_data.shape}\")\n"
   ]
  },
  {
   "cell_type": "code",
   "execution_count": 9,
   "metadata": {},
   "outputs": [
    {
     "name": "stdout",
     "output_type": "stream",
     "text": [
      "Held-out In-Time Test Shape (20% groups): (13560, 9)\n",
      "Train-Val Data Shape (80% groups): (54360, 9)\n"
     ]
    }
   ],
   "source": [
    "\n",
    "# Step 2: Random 20% of unique claim_ids as held-out in-time test (group-safe)\n",
    "unique_claims = timein_data['claim_id'].unique()\n",
    "np.random.seed(42)  # For reproducibility\n",
    "heldout_claims = np.random.choice(\n",
    "    unique_claims, \n",
    "    size=int(0.2 * len(unique_claims)), \n",
    "    replace=False\n",
    ")\n",
    "\n",
    "heldout_in_time_test = timein_data[timein_data['claim_id'].isin(heldout_claims)].copy(deep=True)\n",
    "train_val_df = timein_data[~timein_data['claim_id'].isin(heldout_claims)].copy(deep=True)\n",
    "\n",
    "print(f\"Held-out In-Time Test Shape (20% groups): {heldout_in_time_test.shape}\")\n",
    "print(f\"Train-Val Data Shape (80% groups): {train_val_df.shape}\")\n"
   ]
  },
  {
   "cell_type": "code",
   "execution_count": 10,
   "metadata": {},
   "outputs": [
    {
     "name": "stdout",
     "output_type": "stream",
     "text": [
      "Inner Fold 0: Train size=43488, Val size=10872\n",
      "Inner Fold 1: Train size=43488, Val size=10872\n",
      "Inner Fold 2: Train size=43488, Val size=10872\n",
      "Inner Fold 3: Train size=43488, Val size=10872\n",
      "Inner Fold 4: Train size=43488, Val size=10872\n"
     ]
    }
   ],
   "source": [
    "\n",
    "# Step 3: Sanity check for no group overlap\n",
    "assert set(heldout_in_time_test['claim_id']).isdisjoint(set(train_val_df['claim_id'])), \"Overlap detected!\"\n",
    "\n",
    "# Step 4: GroupKFold CV split on remaining train_val_df\n",
    "gkf = GroupKFold(n_splits=5)\n",
    "train_val_df['folds_col'] = -1  # Initialize fold column\n",
    "\n",
    "X = train_val_df.drop(columns=['claim_id'])  # Or keep if needed downstream\n",
    "\n",
    "for fold_idx, (train_idx, val_idx) in enumerate(gkf.split(X=X, y=None, groups=train_val_df['claim_id'])):\n",
    "    train_val_df.loc[train_val_df.iloc[val_idx].index, 'folds_col'] = fold_idx\n",
    "    print(f\"Inner Fold {fold_idx}: Train size={len(train_idx)}, Val size={len(val_idx)}\")\n"
   ]
  },
  {
   "cell_type": "code",
   "execution_count": 11,
   "metadata": {},
   "outputs": [
    {
     "name": "stdout",
     "output_type": "stream",
     "text": [
      "\n",
      "✅ Final Train/Val folding complete. Fold sizes:\n",
      "folds_col\n",
      "0    10872\n",
      "4    10872\n",
      "3    10872\n",
      "2    10872\n",
      "1    10872\n",
      "Name: count, dtype: int64\n"
     ]
    }
   ],
   "source": [
    "\n",
    "# Step 5 (Optional): Summary stats\n",
    "print(\"\\n✅ Final Train/Val folding complete. Fold sizes:\")\n",
    "print(train_val_df['folds_col'].value_counts())\n",
    "\n",
    "def melt_claims(df, folds_col_exist=False):\n",
    "    base_cols = ['claim_id', 'claim_body', 'claim_created_utc']\n",
    "    pos_cols = base_cols + ['positive_id', 'positive_body', 'positive_created_utc']\n",
    "    neg_cols = base_cols + ['negative_id', 'negative_body', 'negative_created_utc']\n",
    "    if folds_col_exist:\n",
    "        pos_cols.append('folds_col')\n",
    "        neg_cols.append('folds_col')\n",
    "    pos = df[pos_cols].copy(deep=True)\n",
    "    pos.rename(columns={\n",
    "        'positive_id': 'message_id',\n",
    "        'positive_body': 'message',\n",
    "        'positive_created_utc': 'message_created_utc',\n",
    "        'claim_body':'claim',\n",
    "    }, inplace=True)\n",
    "    pos['persuaded'] = 1\n",
    "    neg = df[neg_cols].copy(deep=True)\n",
    "    neg.rename(columns={\n",
    "        'negative_id': 'message_id',\n",
    "        'negative_body': 'message',\n",
    "        'negative_created_utc': 'message_created_utc',\n",
    "        'claim_body':'claim',\n",
    "    }, inplace=True)\n",
    "    neg['persuaded'] = 0\n",
    "    melted = pd.concat([pos, neg], ignore_index=True)\n",
    "    return melted\n",
    "\n",
    "\n",
    "train_val_melted = melt_claims(train_val_df, folds_col_exist=True)\n",
    "heldout_in_time_melted = melt_claims(heldout_in_time_test)\n",
    "heldout_timeout_melted = melt_claims(heldout_timeout_test)\n",
    "\n"
   ]
  },
  {
   "cell_type": "code",
   "execution_count": 12,
   "metadata": {},
   "outputs": [
    {
     "data": {
      "text/html": [
       "<div>\n",
       "<style scoped>\n",
       "    .dataframe tbody tr th:only-of-type {\n",
       "        vertical-align: middle;\n",
       "    }\n",
       "\n",
       "    .dataframe tbody tr th {\n",
       "        vertical-align: top;\n",
       "    }\n",
       "\n",
       "    .dataframe thead th {\n",
       "        text-align: right;\n",
       "    }\n",
       "</style>\n",
       "<table border=\"1\" class=\"dataframe\">\n",
       "  <thead>\n",
       "    <tr style=\"text-align: right;\">\n",
       "      <th></th>\n",
       "      <th>claim_id</th>\n",
       "      <th>claim</th>\n",
       "      <th>claim_created_utc</th>\n",
       "      <th>message_id</th>\n",
       "      <th>message</th>\n",
       "      <th>message_created_utc</th>\n",
       "      <th>folds_col</th>\n",
       "      <th>persuaded</th>\n",
       "    </tr>\n",
       "  </thead>\n",
       "  <tbody>\n",
       "    <tr>\n",
       "      <th>54359</th>\n",
       "      <td>1afxgbv</td>\n",
       "      <td>The Earh could be turned into a utopian commun...</td>\n",
       "      <td>1706747109</td>\n",
       "      <td>kod5d6s</td>\n",
       "      <td>Ending your post with \"fight me\" doesn't reall...</td>\n",
       "      <td>1706747536</td>\n",
       "      <td>0</td>\n",
       "      <td>1</td>\n",
       "    </tr>\n",
       "    <tr>\n",
       "      <th>108719</th>\n",
       "      <td>1afxgbv</td>\n",
       "      <td>The Earh could be turned into a utopian commun...</td>\n",
       "      <td>1706747109</td>\n",
       "      <td>kodcfpi</td>\n",
       "      <td>There's going to be a lot of overlap between t...</td>\n",
       "      <td>1706750267</td>\n",
       "      <td>0</td>\n",
       "      <td>0</td>\n",
       "    </tr>\n",
       "  </tbody>\n",
       "</table>\n",
       "</div>"
      ],
      "text/plain": [
       "       claim_id                                              claim  \\\n",
       "54359   1afxgbv  The Earh could be turned into a utopian commun...   \n",
       "108719  1afxgbv  The Earh could be turned into a utopian commun...   \n",
       "\n",
       "        claim_created_utc message_id  \\\n",
       "54359          1706747109    kod5d6s   \n",
       "108719         1706747109    kodcfpi   \n",
       "\n",
       "                                                  message  \\\n",
       "54359   Ending your post with \"fight me\" doesn't reall...   \n",
       "108719  There's going to be a lot of overlap between t...   \n",
       "\n",
       "        message_created_utc  folds_col  persuaded  \n",
       "54359            1706747536          0          1  \n",
       "108719           1706750267          0          0  "
      ]
     },
     "execution_count": 12,
     "metadata": {},
     "output_type": "execute_result"
    }
   ],
   "source": [
    "train_val_melted[train_val_melted['claim_id'] == \"1afxgbv\"]"
   ]
  },
  {
   "cell_type": "code",
   "execution_count": 13,
   "metadata": {},
   "outputs": [
    {
     "data": {
      "text/plain": [
       "(108720, 8)"
      ]
     },
     "execution_count": 13,
     "metadata": {},
     "output_type": "execute_result"
    }
   ],
   "source": [
    "train_val_melted.drop_duplicates(subset=['message_id']).shape"
   ]
  },
  {
   "cell_type": "code",
   "execution_count": 14,
   "metadata": {},
   "outputs": [
    {
     "data": {
      "text/plain": [
       "(108720, 8)"
      ]
     },
     "execution_count": 14,
     "metadata": {},
     "output_type": "execute_result"
    }
   ],
   "source": [
    "train_val_melted.shape"
   ]
  },
  {
   "cell_type": "code",
   "execution_count": 15,
   "metadata": {},
   "outputs": [],
   "source": [
    "\n",
    "# (Optional) Step 6: Save outputs if needed\n",
    "train_val_melted.to_json(\"../../data/pos_random_neg_20250303_dump_v001_to_percvs_v002_train_grpstrat_80pct.jsonl\", orient='records', lines=True)\n",
    "heldout_in_time_melted.to_json(\"../../data/pos_random_neg_20250303_dump_v001_to_percvs_v002_testintime_grpstrat_20pct.jsonl\", orient='records', lines=True)\n",
    "heldout_timeout_melted.to_json(\"../../data/pos_random_neg_20250303_dump_v001_to_percvs_v002_testouttime_grpstrat_20pct.jsonl\", orient='records', lines=True)\n"
   ]
  },
  {
   "cell_type": "code",
   "execution_count": 16,
   "metadata": {},
   "outputs": [
    {
     "data": {
      "text/plain": [
       "np.float64(357.62857142857143)"
      ]
     },
     "execution_count": 16,
     "metadata": {},
     "output_type": "execute_result"
    }
   ],
   "source": [
    "heldout_timeout_melted['claim'].str.split().str.len().mean()"
   ]
  },
  {
   "cell_type": "code",
   "execution_count": 17,
   "metadata": {},
   "outputs": [
    {
     "data": {
      "text/html": [
       "<div>\n",
       "<style scoped>\n",
       "    .dataframe tbody tr th:only-of-type {\n",
       "        vertical-align: middle;\n",
       "    }\n",
       "\n",
       "    .dataframe tbody tr th {\n",
       "        vertical-align: top;\n",
       "    }\n",
       "\n",
       "    .dataframe thead th {\n",
       "        text-align: right;\n",
       "    }\n",
       "</style>\n",
       "<table border=\"1\" class=\"dataframe\">\n",
       "  <thead>\n",
       "    <tr style=\"text-align: right;\">\n",
       "      <th></th>\n",
       "      <th>claim_id</th>\n",
       "      <th>claim</th>\n",
       "      <th>claim_created_utc</th>\n",
       "      <th>message_id</th>\n",
       "      <th>message</th>\n",
       "      <th>message_created_utc</th>\n",
       "      <th>persuaded</th>\n",
       "    </tr>\n",
       "  </thead>\n",
       "  <tbody>\n",
       "  </tbody>\n",
       "</table>\n",
       "</div>"
      ],
      "text/plain": [
       "Empty DataFrame\n",
       "Columns: [claim_id, claim, claim_created_utc, message_id, message, message_created_utc, persuaded]\n",
       "Index: []"
      ]
     },
     "execution_count": 17,
     "metadata": {},
     "output_type": "execute_result"
    }
   ],
   "source": [
    "heldout_timeout_melted[heldout_timeout_melted['message'].str.split().str.len()<50]"
   ]
  },
  {
   "cell_type": "code",
   "execution_count": 18,
   "metadata": {},
   "outputs": [
    {
     "data": {
      "text/plain": [
       "np.float64(364.7174025018396)"
      ]
     },
     "execution_count": 18,
     "metadata": {},
     "output_type": "execute_result"
    }
   ],
   "source": [
    "train_val_melted['claim'].str.split().str.len().mean()"
   ]
  },
  {
   "cell_type": "code",
   "execution_count": 19,
   "metadata": {},
   "outputs": [
    {
     "data": {
      "text/plain": [
       "np.float64(175.48437270051508)"
      ]
     },
     "execution_count": 19,
     "metadata": {},
     "output_type": "execute_result"
    }
   ],
   "source": [
    "train_val_melted['message'].str.split().str.len().mean()"
   ]
  },
  {
   "cell_type": "code",
   "execution_count": 20,
   "metadata": {},
   "outputs": [
    {
     "data": {
      "text/plain": [
       "np.float64(365.207005899705)"
      ]
     },
     "execution_count": 20,
     "metadata": {},
     "output_type": "execute_result"
    }
   ],
   "source": [
    "heldout_in_time_melted['claim'].str.split().str.len().mean()"
   ]
  },
  {
   "cell_type": "code",
   "execution_count": 21,
   "metadata": {},
   "outputs": [
    {
     "data": {
      "text/plain": [
       "np.float64(175.37400442477878)"
      ]
     },
     "execution_count": 21,
     "metadata": {},
     "output_type": "execute_result"
    }
   ],
   "source": [
    "heldout_in_time_melted['message'].str.split().str.len().mean()"
   ]
  },
  {
   "cell_type": "code",
   "execution_count": null,
   "metadata": {},
   "outputs": [],
   "source": []
  }
 ],
 "metadata": {
  "kernelspec": {
   "display_name": "Python 3",
   "language": "python",
   "name": "python3"
  },
  "language_info": {
   "codemirror_mode": {
    "name": "ipython",
    "version": 3
   },
   "file_extension": ".py",
   "mimetype": "text/x-python",
   "name": "python",
   "nbconvert_exporter": "python",
   "pygments_lexer": "ipython3",
   "version": "3.10.16"
  }
 },
 "nbformat": 4,
 "nbformat_minor": 2
}
